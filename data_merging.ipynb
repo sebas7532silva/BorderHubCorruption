{
 "cells": [
  {
   "cell_type": "code",
   "execution_count": 1,
   "metadata": {},
   "outputs": [],
   "source": [
    "#1. Librerias\n",
    "\n",
    "import pandas as pd\n",
    "import numpy as np\n",
    "import os"
   ]
  },
  {
   "cell_type": "code",
   "execution_count": 2,
   "metadata": {},
   "outputs": [
    {
     "name": "stderr",
     "output_type": "stream",
     "text": [
      "c:\\Users\\sebas\\AppData\\Local\\Programs\\Python\\Python311\\Lib\\site-packages\\openpyxl\\styles\\stylesheet.py:226: UserWarning: Workbook contains no default style, apply openpyxl's default\n",
      "  warn(\"Workbook contains no default style, apply openpyxl's default\")\n",
      "c:\\Users\\sebas\\AppData\\Local\\Programs\\Python\\Python311\\Lib\\site-packages\\openpyxl\\styles\\stylesheet.py:226: UserWarning: Workbook contains no default style, apply openpyxl's default\n",
      "  warn(\"Workbook contains no default style, apply openpyxl's default\")\n",
      "c:\\Users\\sebas\\AppData\\Local\\Programs\\Python\\Python311\\Lib\\site-packages\\openpyxl\\styles\\stylesheet.py:226: UserWarning: Workbook contains no default style, apply openpyxl's default\n",
      "  warn(\"Workbook contains no default style, apply openpyxl's default\")\n",
      "c:\\Users\\sebas\\AppData\\Local\\Programs\\Python\\Python311\\Lib\\site-packages\\openpyxl\\styles\\stylesheet.py:226: UserWarning: Workbook contains no default style, apply openpyxl's default\n",
      "  warn(\"Workbook contains no default style, apply openpyxl's default\")\n"
     ]
    }
   ],
   "source": [
    "#2. Carga de datos y merge de datos\n",
    "\n",
    "csvs = os.listdir('XLSXs')\n",
    "dataframes = []\n",
    "\n",
    "for csv in csvs:\n",
    "    dataframes.append(pd.read_excel('XLSXs/' + csv))"
   ]
  },
  {
   "cell_type": "code",
   "execution_count": 53,
   "metadata": {},
   "outputs": [],
   "source": [
    "dataframes_2014 = dataframes[0:4]\n",
    "dataframes_2018 = dataframes[4:]"
   ]
  },
  {
   "cell_type": "code",
   "execution_count": 54,
   "metadata": {},
   "outputs": [],
   "source": [
    "final_cols_2018 = ['Siglas de la Institución','Orden de gobierno','Institución',\n",
    "       'Clave de la UC', 'Nombre de la UC', 'Clave CUCOP',\n",
    "       'Código del expediente', 'Título del expediente',\n",
    "       'Número del procedimiento','Fecha de fallo','Fecha de publicación','Fecha de apertura',\n",
    "       'Carácter del procedimiento','Tipo de contratación','Tipo de procedimiento','Forma de participación',\n",
    "       'Código del contrato','Título del contrato','Fecha de inicio del contrato','Fecha de fin del contrato',\n",
    "       'Importe del contrato','Moneda del contrato','Estatus del contrato',\n",
    "       'Fecha de firma del contrato','Compra consolidada','Proveedor o contratista',\n",
    "       'Estratificación de la empresa','Dirección del anuncio']"
   ]
  },
  {
   "cell_type": "code",
   "execution_count": 55,
   "metadata": {},
   "outputs": [],
   "source": [
    "fix_2014_cols = ['Siglas de la Institución','Orden de gobierno','Institución',\n",
    "       'Clave de la UC', 'Nombre de la UC',\n",
    "       'Código del expediente', 'Título del expediente',\n",
    "       'Número del procedimiento','Fecha de fallo','Fecha de publicación','Fecha de apertura',\n",
    "       'Carácter del procedimiento','Tipo de contratación','Tipo de procedimiento','Forma de participación',\n",
    "       'Código del contrato','Título del contrato','Fecha de inicio del contrato','Fecha de fin del contrato',\n",
    "       'Importe del contrato','Moneda del contrato','Estatus del contrato',\n",
    "       'Fecha de firma del contrato','Compra consolidada','Proveedor o contratista',\n",
    "       'Estratificación de la empresa','Dirección del anuncio']"
   ]
  },
  {
   "cell_type": "code",
   "execution_count": 56,
   "metadata": {},
   "outputs": [],
   "source": [
    "final_cols_2014 = ['SIGLAS','GOBIERNO','DEPENDENCIA',\n",
    "       'CLAVEUC', 'NOMBRE_DE_LA_UC',\n",
    "       'CODIGO_EXPEDIENTE', 'TITULO_EXPEDIENTE',\n",
    "       'NUMERO_PROCEDIMIENTO','EXP_F_FALLO','PROC_F_PUBLICACION','FECHA_APERTURA_PROPOSICIONES',\n",
    "       'CARACTER','TIPO_CONTRATACION','TIPO_PROCEDIMIENTO','FORMA_PROCEDIMIENTO',\n",
    "       'CODIGO_CONTRATO','TITULO_CONTRATO','FECHA_INICIO','FECHA_FIN',\n",
    "       'IMPORTE_CONTRATO','MONEDA','ESTATUS_CONTRATO',\n",
    "       'FECHA_CELEBRACION','COMPRA_CONSOLIDADA','PROVEEDOR_CONTRATISTA',\n",
    "       'ESTRATIFICACION_MPC','ANUNCIO']"
   ]
  },
  {
   "cell_type": "code",
   "execution_count": 57,
   "metadata": {},
   "outputs": [
    {
     "name": "stderr",
     "output_type": "stream",
     "text": [
      "C:\\Users\\sebas\\AppData\\Local\\Temp\\ipykernel_9556\\2947794965.py:4: SettingWithCopyWarning: \n",
      "A value is trying to be set on a copy of a slice from a DataFrame.\n",
      "Try using .loc[row_indexer,col_indexer] = value instead\n",
      "\n",
      "See the caveats in the documentation: https://pandas.pydata.org/pandas-docs/stable/user_guide/indexing.html#returning-a-view-versus-a-copy\n",
      "  dataframes_2014[i]['Clave CUCOP'] = [np.nan]*dataframes_2014[i].shape[0]\n",
      "C:\\Users\\sebas\\AppData\\Local\\Temp\\ipykernel_9556\\2947794965.py:4: SettingWithCopyWarning: \n",
      "A value is trying to be set on a copy of a slice from a DataFrame.\n",
      "Try using .loc[row_indexer,col_indexer] = value instead\n",
      "\n",
      "See the caveats in the documentation: https://pandas.pydata.org/pandas-docs/stable/user_guide/indexing.html#returning-a-view-versus-a-copy\n",
      "  dataframes_2014[i]['Clave CUCOP'] = [np.nan]*dataframes_2014[i].shape[0]\n",
      "C:\\Users\\sebas\\AppData\\Local\\Temp\\ipykernel_9556\\2947794965.py:4: SettingWithCopyWarning: \n",
      "A value is trying to be set on a copy of a slice from a DataFrame.\n",
      "Try using .loc[row_indexer,col_indexer] = value instead\n",
      "\n",
      "See the caveats in the documentation: https://pandas.pydata.org/pandas-docs/stable/user_guide/indexing.html#returning-a-view-versus-a-copy\n",
      "  dataframes_2014[i]['Clave CUCOP'] = [np.nan]*dataframes_2014[i].shape[0]\n",
      "C:\\Users\\sebas\\AppData\\Local\\Temp\\ipykernel_9556\\2947794965.py:4: SettingWithCopyWarning: \n",
      "A value is trying to be set on a copy of a slice from a DataFrame.\n",
      "Try using .loc[row_indexer,col_indexer] = value instead\n",
      "\n",
      "See the caveats in the documentation: https://pandas.pydata.org/pandas-docs/stable/user_guide/indexing.html#returning-a-view-versus-a-copy\n",
      "  dataframes_2014[i]['Clave CUCOP'] = [np.nan]*dataframes_2014[i].shape[0]\n"
     ]
    }
   ],
   "source": [
    "for i in range(len(dataframes_2014)):\n",
    "    dataframes_2014[i] = dataframes_2014[i][final_cols_2014]\n",
    "    dataframes_2014[i].columns = fix_2014_cols\n",
    "    dataframes_2014[i]['Clave CUCOP'] = [np.nan]*dataframes_2014[i].shape[0]\n",
    "\n",
    "for i in range(len(dataframes_2018)):\n",
    "    dataframes_2018[i] = dataframes_2018[i][final_cols_2018]\n",
    "    \n",
    "final_df = dataframes_2014 + dataframes_2018\n",
    "final_df = pd.concat(final_df)"
   ]
  },
  {
   "cell_type": "code",
   "execution_count": null,
   "metadata": {},
   "outputs": [],
   "source": [
    "final_df.to_csv('Contratos2014_2023.csv', encoding = 'utf-8-sig', index = False)"
   ]
  }
 ],
 "metadata": {
  "kernelspec": {
   "display_name": "Python 3",
   "language": "python",
   "name": "python3"
  },
  "language_info": {
   "codemirror_mode": {
    "name": "ipython",
    "version": 3
   },
   "file_extension": ".py",
   "mimetype": "text/x-python",
   "name": "python",
   "nbconvert_exporter": "python",
   "pygments_lexer": "ipython3",
   "version": "3.11.1"
  },
  "orig_nbformat": 4
 },
 "nbformat": 4,
 "nbformat_minor": 2
}
