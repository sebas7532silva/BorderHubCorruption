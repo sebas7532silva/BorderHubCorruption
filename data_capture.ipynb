{
 "cells": [
  {
   "cell_type": "code",
   "execution_count": 1,
   "metadata": {},
   "outputs": [],
   "source": [
    "#1. Importe de librerias\n",
    "\n",
    "import os\n",
    "import requests\n",
    "import wget\n",
    "from zipfile import ZipFile"
   ]
  },
  {
   "cell_type": "code",
   "execution_count": null,
   "metadata": {},
   "outputs": [],
   "source": [
    "#Descarga de zips\n",
    "years = ['2014','2015','2016','2017','2018', '2019', '2020', '2021', '2022', '2023']\n",
    "\n",
    "for year in years:\n",
    "    url = 'https://upcp.hacienda.gob.mx/descargas/Contratos' + year + '.zip'\n",
    "    response = wget.download(url, 'Zips/Contratos' + year + '.zip')"
   ]
  },
  {
   "cell_type": "code",
   "execution_count": 3,
   "metadata": {},
   "outputs": [],
   "source": [
    "#Unzipeo de contratos\n",
    "# loading the temp.zip and creating a zip object\n",
    "\n",
    "for year in years:\n",
    "    with ZipFile('Zips\\Contratos' + year + '.zip', 'r') as zObject:\n",
    "    \n",
    "        # Extracting all the members of the zip \n",
    "        # into a specific location.\n",
    "        zObject.extractall(\n",
    "            path=\"XLSXs\")"
   ]
  }
 ],
 "metadata": {
  "kernelspec": {
   "display_name": "Python 3",
   "language": "python",
   "name": "python3"
  },
  "language_info": {
   "codemirror_mode": {
    "name": "ipython",
    "version": 3
   },
   "file_extension": ".py",
   "mimetype": "text/x-python",
   "name": "python",
   "nbconvert_exporter": "python",
   "pygments_lexer": "ipython3",
   "version": "3.11.1"
  },
  "orig_nbformat": 4
 },
 "nbformat": 4,
 "nbformat_minor": 2
}
